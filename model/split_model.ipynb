{
 "metadata": {
  "language_info": {
   "codemirror_mode": {
    "name": "ipython",
    "version": 3
   },
   "file_extension": ".py",
   "mimetype": "text/x-python",
   "name": "python",
   "nbconvert_exporter": "python",
   "pygments_lexer": "ipython3",
   "version": "3.8.5"
  },
  "orig_nbformat": 2,
  "kernelspec": {
   "name": "python385jvsc74a57bd0b4e7f3195cf1e24ce8418331d59f43002c689dbd0c00d2a8952d60831217be82",
   "display_name": "Python 3.8.5 64-bit"
  },
  "metadata": {
   "interpreter": {
    "hash": "b4e7f3195cf1e24ce8418331d59f43002c689dbd0c00d2a8952d60831217be82"
   }
  }
 },
 "nbformat": 4,
 "nbformat_minor": 2,
 "cells": [
  {
   "cell_type": "code",
   "execution_count": 7,
   "metadata": {},
   "outputs": [],
   "source": [
    "import numpy as np\n",
    "\n",
    "import tensorflow as tf\n",
    "from tensorflow import keras\n",
    "from tensorflow.keras import layers\n",
    "\n",
    "from tensorflow.keras.layers import (Dense, \n",
    "                                     BatchNormalization, \n",
    "                                     LeakyReLU, \n",
    "                                     Reshape, \n",
    "                                     Conv2DTranspose,\n",
    "                                     Conv2D,\n",
    "                                     Dropout,\n",
    "                                     Flatten)\n",
    "\n",
    "import tensorflow_addons as tfa\n",
    "\n",
    "from tensorflow.keras.applications import EfficientNetB3\n",
    "from keras.models import Model\n",
    "from keras.layers import Activation\n",
    "import efficientnet.tfkeras\n",
    "import efficientnet.keras as efn \n",
    "\n",
    "from keras.utils.vis_utils import plot_model"
   ]
  },
  {
   "cell_type": "code",
   "execution_count": 10,
   "metadata": {},
   "outputs": [],
   "source": [
    "def split_model(net_in, first_layer, last_layer, name):\n",
    "    l_used = set()\n",
    "    structure = net_in.get_config()\n",
    "    for i, layer in enumerate(structure['layers']):\n",
    "        if i == 0:\n",
    "            structure['layers'][0]['config']['batch_input_shape'] = net_in.layers[first_layer].input_shape\n",
    "            if i != first_layer:\n",
    "                structure['layers'][0]['name']\n",
    "                structure['layers'][0]['config']['name'] = structure['layers'][0]['name']\n",
    "        elif i < first_layer:\n",
    "            continue\n",
    "        elif i > last_layer:\n",
    "            continue\n",
    "        l_used.add(layer['name'])\n",
    "\n",
    "    \n",
    "    # extract layers to be used\n",
    "    l_extracted=[]\n",
    "    for l in structure['layers']:\n",
    "        if l['name'] in l_used:\n",
    "            l_extracted.append(l)\n",
    "\n",
    "    l_extracted[1]['inbound_nodes'][0][0][0] = l_extracted[0]['name']\n",
    "\n",
    "    # set model structure\n",
    "    structure['layers'] = l_extracted\n",
    "    structure['input_layers'][0][0] = l_extracted[0]['name']\n",
    "    structure['output_layers'][0][0] = l_extracted[-1]['name']\n",
    "\n",
    "    # create new model\n",
    "    modelsplit = Model.from_config(structure)\n",
    "    \n",
    "    \"\"\"\n",
    "    for layer in modelsplit.layers:\n",
    "        orig_l = net_in.get_layer(layer.name)\n",
    "        if orig_l is not None:\n",
    "            l.set_weights(orig_l.get_weights())\n",
    "    \n",
    "    for layer in modelsplit.layers:\n",
    "        layer._name = layer.name + str(name)\n",
    "    \"\"\"\n",
    "    modelsplit._name = 'EfficientNet_' + str(name)\n",
    "\n",
    "    modelsplit.compile()\n",
    "    modelsplit.summary()\n",
    "    return modelsplit"
   ]
  },
  {
   "cell_type": "code",
   "execution_count": null,
   "metadata": {},
   "outputs": [],
   "source": [
    "def split_model(model, start, end, name):\n",
    "    \"\"\"Splits the EfficientNet model based on a range defined by the start and end parameters. Allows all the features of the model remain \n",
    "        while only keeping a small portion. The previous implementations relied on manually separating the layers, possibly reducing\n",
    "        performance\"\"\"    \n",
    "\n",
    "    structure = model.get_config()\n",
    "    layers_used = set()\n",
    "    for i, l in enumerate(structure['layers']):\n",
    "        if i == 0:\n",
    "            structure['layers'][0]['config']['batch_input_shape'] = model.layers[start].input_shape\n",
    "            if i != start:\n",
    "                structure['layers'][0]['name']\n",
    "                structure['layers'][0]['config']['name'] = structure['layers'][0]['name']\n",
    "        elif i < start or i > end:\n",
    "            continue\n",
    "        layers_used.add(l['name'])\n",
    "\n",
    "    #tf.print(structure['layers'][0]['config']['batch_input_shape']) #(64,64,144)\n",
    "    #tf.print(structure)\n",
    "    #tf.print(layers_used)\n",
    "\n",
    "    # extract layers to be used \n",
    "    layers = [l for l in structure['layers'] if l['name'] in layers_used]\n",
    "    layers[1]['inbound_nodes'][0][0][0] = layers[0]['name']\n",
    "\n",
    "    #tf.print(layers)\n",
    "    #tf.print(layers[1]['inbound_nodes'][0][0][0])\n",
    "\n",
    "    # set model structure\n",
    "    structure['layers'] = layers\n",
    "    structure['input_layers'][0][0] = layers[0]['name']\n",
    "    structure['output_layers'][0][0] = layers[-1]['name']\n",
    "\n",
    "    #tf.print(structure['layers'])\n",
    "    #tf.print(structure['input_layers'][0][0])\n",
    "    #tf.print(structure['output_layers'][0][0])\n",
    "\n",
    "    # create new model\n",
    "    modelsplit = Model.from_config(structure)\n",
    "    for l in modelsplit.layers:\n",
    "        orig_l = model.get_layer(l.name)\n",
    "        if orig_l is not None:\n",
    "            l.set_weights(orig_l.get_weights())\n",
    "    \n",
    "    tf.print(modelsplit)\n",
    "    \"\"\"\n",
    "    modelsplit.compile()\n",
    "    modelsplit.summary()\n",
    "\n",
    "    \"\"\"\n",
    "    for layer in modelsplit.layers:\n",
    "        layer._name = layer.name + str(name)\n",
    "\n",
    "    modelsplit._name = 'EfficientNet_' + str(name)\n",
    "\n",
    "    modelsplit.compile()\n",
    "    modelsplit.summary()\n",
    "    \n",
    "    return modelsplit"
   ]
  },
  {
   "cell_type": "code",
   "execution_count": 11,
   "metadata": {},
   "outputs": [
    {
     "output_type": "stream",
     "name": "stdout",
     "text": [
      "Model: \"EfficientNet_name\"\n__________________________________________________________________________________________________\nLayer (type)                    Output Shape         Param #     Connected to                     \n==================================================================================================\ninput_4 (InputLayer)            [(None, 64, 64, 144) 0                                            \n__________________________________________________________________________________________________\nblock2a_bn (BatchNormalization) (None, 64, 64, 144)  576         input_4[0][0]                    \n__________________________________________________________________________________________________\nblock2a_activation (Activation) (None, 64, 64, 144)  0           block2a_bn[0][0]                 \n__________________________________________________________________________________________________\nblock2a_se_squeeze (GlobalAvera (None, 144)          0           block2a_activation[0][0]         \n__________________________________________________________________________________________________\nblock2a_se_reshape (Reshape)    (None, 1, 1, 144)    0           block2a_se_squeeze[0][0]         \n__________________________________________________________________________________________________\nblock2a_se_reduce (Conv2D)      (None, 1, 1, 6)      870         block2a_se_reshape[0][0]         \n__________________________________________________________________________________________________\nblock2a_se_expand (Conv2D)      (None, 1, 1, 144)    1008        block2a_se_reduce[0][0]          \n__________________________________________________________________________________________________\nblock2a_se_excite (Multiply)    (None, 64, 64, 144)  0           block2a_activation[0][0]         \n                                                                 block2a_se_expand[0][0]          \n__________________________________________________________________________________________________\nblock2a_project_conv (Conv2D)   (None, 64, 64, 32)   4608        block2a_se_excite[0][0]          \n__________________________________________________________________________________________________\nblock2a_project_bn (BatchNormal (None, 64, 64, 32)   128         block2a_project_conv[0][0]       \n__________________________________________________________________________________________________\nblock2b_expand_conv (Conv2D)    (None, 64, 64, 192)  6144        block2a_project_bn[0][0]         \n__________________________________________________________________________________________________\nblock2b_expand_bn (BatchNormali (None, 64, 64, 192)  768         block2b_expand_conv[0][0]        \n__________________________________________________________________________________________________\nblock2b_expand_activation (Acti (None, 64, 64, 192)  0           block2b_expand_bn[0][0]          \n__________________________________________________________________________________________________\nblock2b_dwconv (DepthwiseConv2D (None, 64, 64, 192)  1728        block2b_expand_activation[0][0]  \n__________________________________________________________________________________________________\nblock2b_bn (BatchNormalization) (None, 64, 64, 192)  768         block2b_dwconv[0][0]             \n__________________________________________________________________________________________________\nblock2b_activation (Activation) (None, 64, 64, 192)  0           block2b_bn[0][0]                 \n__________________________________________________________________________________________________\nblock2b_se_squeeze (GlobalAvera (None, 192)          0           block2b_activation[0][0]         \n__________________________________________________________________________________________________\nblock2b_se_reshape (Reshape)    (None, 1, 1, 192)    0           block2b_se_squeeze[0][0]         \n__________________________________________________________________________________________________\nblock2b_se_reduce (Conv2D)      (None, 1, 1, 8)      1544        block2b_se_reshape[0][0]         \n__________________________________________________________________________________________________\nblock2b_se_expand (Conv2D)      (None, 1, 1, 192)    1728        block2b_se_reduce[0][0]          \n__________________________________________________________________________________________________\nblock2b_se_excite (Multiply)    (None, 64, 64, 192)  0           block2b_activation[0][0]         \n                                                                 block2b_se_expand[0][0]          \n__________________________________________________________________________________________________\nblock2b_project_conv (Conv2D)   (None, 64, 64, 32)   6144        block2b_se_excite[0][0]          \n__________________________________________________________________________________________________\nblock2b_project_bn (BatchNormal (None, 64, 64, 32)   128         block2b_project_conv[0][0]       \n__________________________________________________________________________________________________\nblock2b_drop (FixedDropout)     (None, 64, 64, 32)   0           block2b_project_bn[0][0]         \n__________________________________________________________________________________________________\nblock2b_add (Add)               (None, 64, 64, 32)   0           block2b_drop[0][0]               \n                                                                 block2a_project_bn[0][0]         \n__________________________________________________________________________________________________\nblock2c_expand_conv (Conv2D)    (None, 64, 64, 192)  6144        block2b_add[0][0]                \n__________________________________________________________________________________________________\nblock2c_expand_bn (BatchNormali (None, 64, 64, 192)  768         block2c_expand_conv[0][0]        \n__________________________________________________________________________________________________\nblock2c_expand_activation (Acti (None, 64, 64, 192)  0           block2c_expand_bn[0][0]          \n__________________________________________________________________________________________________\nblock2c_dwconv (DepthwiseConv2D (None, 64, 64, 192)  1728        block2c_expand_activation[0][0]  \n__________________________________________________________________________________________________\nblock2c_bn (BatchNormalization) (None, 64, 64, 192)  768         block2c_dwconv[0][0]             \n__________________________________________________________________________________________________\nblock2c_activation (Activation) (None, 64, 64, 192)  0           block2c_bn[0][0]                 \n__________________________________________________________________________________________________\nblock2c_se_squeeze (GlobalAvera (None, 192)          0           block2c_activation[0][0]         \n__________________________________________________________________________________________________\nblock2c_se_reshape (Reshape)    (None, 1, 1, 192)    0           block2c_se_squeeze[0][0]         \n__________________________________________________________________________________________________\nblock2c_se_reduce (Conv2D)      (None, 1, 1, 8)      1544        block2c_se_reshape[0][0]         \n__________________________________________________________________________________________________\nblock2c_se_expand (Conv2D)      (None, 1, 1, 192)    1728        block2c_se_reduce[0][0]          \n__________________________________________________________________________________________________\nblock2c_se_excite (Multiply)    (None, 64, 64, 192)  0           block2c_activation[0][0]         \n                                                                 block2c_se_expand[0][0]          \n__________________________________________________________________________________________________\nblock2c_project_conv (Conv2D)   (None, 64, 64, 32)   6144        block2c_se_excite[0][0]          \n__________________________________________________________________________________________________\nblock2c_project_bn (BatchNormal (None, 64, 64, 32)   128         block2c_project_conv[0][0]       \n__________________________________________________________________________________________________\nblock2c_drop (FixedDropout)     (None, 64, 64, 32)   0           block2c_project_bn[0][0]         \n__________________________________________________________________________________________________\nblock2c_add (Add)               (None, 64, 64, 32)   0           block2c_drop[0][0]               \n                                                                 block2b_add[0][0]                \n__________________________________________________________________________________________________\nblock3a_expand_conv (Conv2D)    (None, 64, 64, 192)  6144        block2c_add[0][0]                \n__________________________________________________________________________________________________\nblock3a_expand_bn (BatchNormali (None, 64, 64, 192)  768         block3a_expand_conv[0][0]        \n__________________________________________________________________________________________________\nblock3a_expand_activation (Acti (None, 64, 64, 192)  0           block3a_expand_bn[0][0]          \n==================================================================================================\nTotal params: 52,006\nTrainable params: 49,606\nNon-trainable params: 2,400\n__________________________________________________________________________________________________\n"
     ]
    },
    {
     "output_type": "execute_result",
     "data": {
      "text/plain": [
       "<tensorflow.python.keras.engine.functional.Functional at 0x232bcc33b50>"
      ]
     },
     "metadata": {},
     "execution_count": 11
    }
   ],
   "source": [
    "model = efn.EfficientNetB3(\n",
    "        include_top=False,\n",
    "        weights=\"imagenet\",\n",
    "        input_shape=(256, 256, 3))\n",
    "\n",
    "split_model(model, 30, 71, 'name')"
   ]
  },
  {
   "cell_type": "code",
   "execution_count": null,
   "metadata": {},
   "outputs": [],
   "source": []
  }
 ]
}