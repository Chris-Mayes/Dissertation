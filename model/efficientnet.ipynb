{
 "metadata": {
  "language_info": {
   "codemirror_mode": {
    "name": "ipython",
    "version": 3
   },
   "file_extension": ".py",
   "mimetype": "text/x-python",
   "name": "python",
   "nbconvert_exporter": "python",
   "pygments_lexer": "ipython3",
   "version": "3.8.5-final"
  },
  "orig_nbformat": 2,
  "kernelspec": {
   "name": "gpu",
   "display_name": "gpu"
  }
 },
 "nbformat": 4,
 "nbformat_minor": 2,
 "cells": [
  {
   "cell_type": "code",
   "execution_count": 1,
   "metadata": {},
   "outputs": [],
   "source": [
    "import os\n",
    "import numpy as np\n",
    "\n",
    "import tensorflow as tf\n",
    "from tensorflow import keras\n",
    "from tensorflow.keras import layers\n",
    "\n",
    "from tensorflow.keras.layers import (Dense, \n",
    "                                     BatchNormalization, \n",
    "                                     LeakyReLU, \n",
    "                                     Reshape, \n",
    "                                     Conv2DTranspose,\n",
    "                                     Conv2D,\n",
    "                                     Dropout,\n",
    "                                     Flatten)\n",
    "\n",
    "import tensorflow_addons as tfa\n",
    "\n",
    "from tensorflow.keras.applications import EfficientNetB0\n",
    "#from tensorflow.keras.applications import EfficientNetB7\n",
    "from keras.models import Model\n",
    "from keras.models import Sequential\n",
    "import efficientnet.tfkeras\n",
    "import efficientnet.keras as efn "
   ]
  },
  {
   "cell_type": "code",
   "execution_count": 18,
   "metadata": {},
   "outputs": [],
   "source": [
    "class ReflectionPadding2D(layers.Layer):\n",
    "    \"\"\"Implements Reflection Padding as a layer.\n",
    "\n",
    "    Args:\n",
    "        padding(tuple): Amount of padding for the\n",
    "        spatial dimensions.\n",
    "\n",
    "    Returns:\n",
    "        A padded tensor with the same type as the input tensor.\n",
    "    \"\"\"\n",
    "\n",
    "\n",
    "    def __init__(self, padding=(1, 1), **kwargs):\n",
    "        self.padding = tuple(padding)\n",
    "        super(ReflectionPadding2D, self).__init__(**kwargs)\n",
    "\n",
    "    def call(self, input_tensor, mask=None):\n",
    "        padding_width, padding_height = self.padding\n",
    "        padding_tensor = [\n",
    "            [0, 0],\n",
    "            [padding_height, padding_height],\n",
    "            [padding_width, padding_width],\n",
    "            [0, 0],\n",
    "        ]\n",
    "        return tf.pad(input_tensor, padding_tensor, mode=\"REFLECT\")\n"
   ]
  },
  {
   "cell_type": "code",
   "execution_count": 15,
   "metadata": {},
   "outputs": [],
   "source": [
    "def efficientnet():\n",
    "    image_resize = 256\n",
    "    model = efn.EfficientNetB3(include_top=False, weights=\"imagenet\", input_shape=(256, 256, 3))\n",
    "\n",
    "    #model.trainable = False\n",
    "    inputs = tf.keras.layers.Input(shape=[256,256,3])\n",
    "    \n",
    "    #model = Model(model.input)\n",
    "    \n",
    "    \"\"\"\n",
    "    x = Flatten()(model)(model)\n",
    "    x = Dense(4096)(model)(x)\n",
    "    x = Reshape((image_resize, image_resize, 3))(x)\n",
    "    \"\"\"\n",
    "    model = keras.models.Model(inputs, x)\n",
    "    \n",
    "\n",
    "    model.compile()\n",
    "    model.summary()\n",
    "    return model"
   ]
  },
  {
   "cell_type": "code",
   "execution_count": 9,
   "metadata": {},
   "outputs": [],
   "source": [
    "def efficientnet():\n",
    "    model = efn.EfficientNetB3(\n",
    "        include_top=False,\n",
    "        weights=\"imagenet\",\n",
    "        input_shape=(256, 256, 3))\n",
    "    \n",
    "    # add new classifier layers\n",
    "    x = layers.Conv2DTranspose(filters=640, kernel_size=(2, 2), strides=(2, 2), use_bias=False)(model.layers[-36].output)\n",
    "\n",
    "    x = tfa.layers.InstanceNormalization()(x)\n",
    "    x = layers.Conv2DTranspose(filters=160, kernel_size=(4, 4), strides=(4, 4), use_bias=False)(x)\n",
    "    x = tfa.layers.InstanceNormalization()(x)\n",
    "    x = layers.Conv2DTranspose(filters=40, kernel_size=(2, 2), strides=(2, 2), use_bias=False)(x)\n",
    "    x = tfa.layers.InstanceNormalization()(x)\n",
    "    x = layers.Conv2DTranspose(filters=3, kernel_size=(2, 2), strides=(2, 2), use_bias=False)(x)\n",
    "    \n",
    "    # define new model\n",
    "    model = Model(inputs=model.inputs, outputs=x)\n",
    "\n",
    "    model.compile()\n",
    "    model.summary()\n",
    "    return model"
   ]
  },
  {
   "cell_type": "code",
   "execution_count": 16,
   "metadata": {},
   "outputs": [
    {
     "output_type": "error",
     "ename": "NameError",
     "evalue": "name 'x' is not defined",
     "traceback": [
      "\u001b[1;31m---------------------------------------------------------------------------\u001b[0m",
      "\u001b[1;31mNameError\u001b[0m                                 Traceback (most recent call last)",
      "\u001b[1;32m<ipython-input-16-a9ad0ff4bca6>\u001b[0m in \u001b[0;36m<module>\u001b[1;34m\u001b[0m\n\u001b[1;32m----> 1\u001b[1;33m \u001b[0mefficientnet\u001b[0m\u001b[1;33m(\u001b[0m\u001b[1;33m)\u001b[0m\u001b[1;33m\u001b[0m\u001b[1;33m\u001b[0m\u001b[0m\n\u001b[0m",
      "\u001b[1;32m<ipython-input-15-8f6dbb7b4e49>\u001b[0m in \u001b[0;36mefficientnet\u001b[1;34m()\u001b[0m\n\u001b[0;32m     13\u001b[0m     \u001b[0mx\u001b[0m \u001b[1;33m=\u001b[0m \u001b[0mReshape\u001b[0m\u001b[1;33m(\u001b[0m\u001b[1;33m(\u001b[0m\u001b[0mimage_resize\u001b[0m\u001b[1;33m,\u001b[0m \u001b[0mimage_resize\u001b[0m\u001b[1;33m,\u001b[0m \u001b[1;36m3\u001b[0m\u001b[1;33m)\u001b[0m\u001b[1;33m)\u001b[0m\u001b[1;33m(\u001b[0m\u001b[0mx\u001b[0m\u001b[1;33m)\u001b[0m\u001b[1;33m\u001b[0m\u001b[1;33m\u001b[0m\u001b[0m\n\u001b[0;32m     14\u001b[0m     \"\"\"\n\u001b[1;32m---> 15\u001b[1;33m     \u001b[0mmodel\u001b[0m \u001b[1;33m=\u001b[0m \u001b[0mkeras\u001b[0m\u001b[1;33m.\u001b[0m\u001b[0mmodels\u001b[0m\u001b[1;33m.\u001b[0m\u001b[0mModel\u001b[0m\u001b[1;33m(\u001b[0m\u001b[0minputs\u001b[0m\u001b[1;33m,\u001b[0m \u001b[0mx\u001b[0m\u001b[1;33m)\u001b[0m\u001b[1;33m\u001b[0m\u001b[1;33m\u001b[0m\u001b[0m\n\u001b[0m\u001b[0;32m     16\u001b[0m \u001b[1;33m\u001b[0m\u001b[0m\n\u001b[0;32m     17\u001b[0m \u001b[1;33m\u001b[0m\u001b[0m\n",
      "\u001b[1;31mNameError\u001b[0m: name 'x' is not defined"
     ]
    }
   ],
   "source": [
    "efficientnet()"
   ]
  },
  {
   "cell_type": "code",
   "execution_count": null,
   "metadata": {},
   "outputs": [],
   "source": []
  }
 ]
}